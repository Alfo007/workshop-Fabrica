{
  "nbformat": 4,
  "nbformat_minor": 0,
  "metadata": {
    "colab": {
      "provenance": []
    },
    "kernelspec": {
      "name": "python3",
      "display_name": "Python 3"
    },
    "language_info": {
      "name": "python"
    }
  },
  "cells": [
    {
      "cell_type": "code",
      "execution_count": 1,
      "metadata": {
        "id": "-U-mBYzoNUzd"
      },
      "outputs": [],
      "source": [
        "import pandas as pd\n",
        "import matplotlib .pyplot as plt"
      ]
    },
    {
      "cell_type": "code",
      "source": [
        "df = pd.read_csv('/content/dados_rh.csv')"
      ],
      "metadata": {
        "id": "pOnHFjfKNpQy"
      },
      "execution_count": 2,
      "outputs": []
    },
    {
      "cell_type": "code",
      "source": [
        "print(df)"
      ],
      "metadata": {
        "id": "pSDBeBORN-M0"
      },
      "execution_count": null,
      "outputs": []
    },
    {
      "cell_type": "code",
      "source": [
        "df.head()"
      ],
      "metadata": {
        "id": "xXIHo6X3OESK"
      },
      "execution_count": null,
      "outputs": []
    },
    {
      "cell_type": "markdown",
      "source": [
        "## Características do Banco de Dados"
      ],
      "metadata": {
        "id": "tyQ0MYWuP4Fa"
      }
    },
    {
      "cell_type": "code",
      "source": [
        "#Verificar se existem dados nulos na tabela\n",
        "dados_nulos = df.isnull().sum()"
      ],
      "metadata": {
        "id": "LroDvnSROHnI"
      },
      "execution_count": 34,
      "outputs": []
    },
    {
      "cell_type": "code",
      "source": [
        "#Verificar em quais colunas possuem dados nulos\n",
        "colunas_com_nulos = df.columns[df.isnull().any()]\n",
        "dados_nulos_por_coluna = df[colunas_com_nulos].isnull().sum()"
      ],
      "metadata": {
        "id": "UlS6R2GWPAJC"
      },
      "execution_count": 35,
      "outputs": []
    },
    {
      "cell_type": "code",
      "source": [
        "print(\"Os Dados nulos na tabela são:\")\n",
        "print(dados_nulos)"
      ],
      "metadata": {
        "id": "LiexwtecPOlK"
      },
      "execution_count": null,
      "outputs": []
    },
    {
      "cell_type": "code",
      "source": [
        "#Verifica os tipos de dados por coluna\n",
        "tipos_dados = df.dtypes"
      ],
      "metadata": {
        "id": "4waWRVeNPjJr"
      },
      "execution_count": 37,
      "outputs": []
    },
    {
      "cell_type": "code",
      "source": [
        "print(\"Tipos de dados:\")\n",
        "print(tipos_dados)"
      ],
      "metadata": {
        "id": "OZk34k0PPpGK"
      },
      "execution_count": null,
      "outputs": []
    },
    {
      "cell_type": "markdown",
      "source": [
        "## Agrupamento de Dados e Plotagem de Gráficos\n"
      ],
      "metadata": {
        "id": "qhncYd6VP_OO"
      }
    },
    {
      "cell_type": "code",
      "source": [
        "#Quantidade de funcionários por setor\n",
        "contagem_setor = df['Department'].value_counts()"
      ],
      "metadata": {
        "id": "lEYdlJq1QCzB"
      },
      "execution_count": 42,
      "outputs": []
    },
    {
      "cell_type": "code",
      "source": [
        "#Criar o gráfico de barras\n",
        "plt.figure(figsize=(10, 6))\n",
        "plt.title('Quantidade de Funcionários por Setor')\n",
        "plt.xlabel('Setor')\n",
        "plt.ylabel('Quantidade de Funcionários')\n",
        "contagem_setor.plot(kind='bar', color='red')\n",
        "plt.xticks(rotation=0)"
      ],
      "metadata": {
        "id": "RQnWMHTVQYT7"
      },
      "execution_count": null,
      "outputs": []
    },
    {
      "cell_type": "code",
      "source": [
        "#Contar a quantidade de funcionários para cada nível de escolaridade\n",
        "contagem_por_escolaridade = df['Education'].value_counts().sort_index()"
      ],
      "metadata": {
        "id": "QUQ9Qi1sRGXi"
      },
      "execution_count": 45,
      "outputs": []
    },
    {
      "cell_type": "code",
      "source": [
        "#Criar o gráfico de linha\n",
        "plt.figure(figsize=(8, 6))\n",
        "plt.title('Quantidade de Funcionários por Nível de Escolaridade')\n",
        "plt.xlabel('Nível de Escolaridade')\n",
        "plt.ylabel('Quantidade de Funcionários')\n",
        "contagem_por_escolaridade.plot(kind='line', marker='o', color='blue')"
      ],
      "metadata": {
        "id": "-ZPUlPhwRNrT"
      },
      "execution_count": null,
      "outputs": []
    },
    {
      "cell_type": "code",
      "source": [
        "#Contar a quantidade de funcionários com e sem atrito\n",
        "contagem_atrito = df['Attrition'].value_counts()"
      ],
      "metadata": {
        "id": "f5rWF3OyR4hK"
      },
      "execution_count": 48,
      "outputs": []
    },
    {
      "cell_type": "code",
      "source": [
        "#Criar o gráfico de torta\n",
        "plt.figure(figsize=(5, 7))\n",
        "plt.pie(contagem_atrito, labels=contagem_atrito.index,\n",
        "        autopct='%1.1f%%', startangle=140,\n",
        "        colors=['red', 'green']\n",
        ")\n",
        "plt.title('Porcentagem de Funcionários com ou sem Atrito')"
      ],
      "metadata": {
        "id": "R44igKUZSCak"
      },
      "execution_count": null,
      "outputs": []
    }
  ]
}